{
 "cells": [
  {
   "attachments": {},
   "cell_type": "markdown",
   "metadata": {},
   "source": [
    "# Actividad Evaluada 1\n",
    "\n",
    "## Agustín Urrutia"
   ]
  },
  {
   "cell_type": "markdown",
   "metadata": {},
   "source": [
    "## Administrativos"
   ]
  },
  {
   "cell_type": "markdown",
   "metadata": {},
   "source": [
    "- El trabajo es individual. Puedes consultar y discutir con tus compañeras y compañeros, pero a la hora de escribir el código, no puedes compartirlo con nadie. Puedes usar recursos como internet y modelos fundacionales de procesamiento de texto, pero nuevamente, no puedes compartir tu código. \n",
    "\n",
    "- La entrega es el Viernes 24 a las 20:00 horas. El úncio archivo a entregar es una copia de tu notebook, que deberás subir en canvas antes de ese día/hora. \n",
    "\n",
    "- Si tienes dudas, aprovéchanos, vamos a estar en la sala ayudandote. Recuerda que la gracia en estas actividades es aprender y evaluar al mismo tiempo, ¡está bien si no todo sale a la primera!"
   ]
  },
  {
   "cell_type": "markdown",
   "metadata": {},
   "source": [
    "## Enunciado"
   ]
  },
  {
   "cell_type": "markdown",
   "metadata": {},
   "source": [
    "#### DATOS\n",
    "\n",
    "Trabajaremos con una tabla de **Personas(id,nombre,area)**, que almacena el identificador, nombre y el área de donde trabajan personas en una organización, otra de **Proyectos(id,nombre,timestamp)**, con el id, el nombre de los proyectos en esa organización, y un timestamp indicando un orden en los meses (desde que partió la organización); y una relación entre ambas entidades llamada **Persona_Proyecto(id_persona,id_proyecto)** que relaciona las personas con los proyectos en que trabajan. Cabe destacar que la relación entre estas es de 1 a n: cada persona participa en a lo más un proyecto, y los proyectos pueden tener a muchas personas trabajando en ellos. \n",
    "\n",
    "Acá va un ejemplo de como se podrían ver los datos:"
   ]
  },
  {
   "cell_type": "code",
   "execution_count": 48,
   "metadata": {},
   "outputs": [],
   "source": [
    "# id, nombre, área\n",
    "Personas = [\n",
    "    (1, \"Persona 1\", \"TI\"),\n",
    "    (5, \"Persona 5\", \"Gerencia\"),\n",
    "    (2, \"Persona 2\", \"Gerencia\"),\n",
    "    (3, \"Persona 3\", \"TI\"),\n",
    "    (10, \"Persona 10\", \"RRHH\"),\n",
    "    (4, \"Persona 4\", \"Finanzas\"),\n",
    "    (6, \"Persona 6\", \"Finanzas\"),\n",
    "    (15, \"Persona 15\", \"TI\"),\n",
    "    (7, \"Persona 7\", \"Gerencia\"),\n",
    "    (22, \"Persona 22\", \"Gerencia\"),\n",
    "    (31, \"Persona 31\", \"TI\"),\n",
    "    (11, \"Persona 11\", \"RRHH\"),\n",
    "    (9, \"Persona 9\", \"Finanzas\"),\n",
    "    (33, \"Persona 33\", \"TI\"),\n",
    "]\n",
    "\n",
    "# id, nombre, timestamp\n",
    "Proyectos = [\n",
    "    (1, \"Proyecto 1\", 1),\n",
    "    (2, \"Proyecto 2\", 10),\n",
    "    (3, \"Proyecto 3\", 8),\n",
    "    (4, \"Proyecto 4\", 3),\n",
    "    (5, \"Proyecto 5\", 7),\n",
    "]\n",
    "\n",
    "# Formato (id_persona, id_proyecto)\n",
    "Persona_Proyecto = [\n",
    "    (1, 1),\n",
    "    (2, 3),\n",
    "    (10, 1),\n",
    "    (5, 2),\n",
    "    (6, 2),\n",
    "    (33, 2),\n",
    "    (15, 3),\n",
    "]"
   ]
  },
  {
   "cell_type": "markdown",
   "metadata": {},
   "source": [
    "#### Manejo de datos \n",
    "\n",
    "Vamos a construir una clase Tabla, para acceder a los datos de arriba. El acceso es mediante un iterador, que implementa *iter()* y *next()*, y mediante *index_access(id_indice,element)*, que permite acceder a elementos como si fuera un hash-index. \n"
   ]
  },
  {
   "cell_type": "code",
   "execution_count": 49,
   "metadata": {},
   "outputs": [],
   "source": [
    "class Tabla:\n",
    "    def __init__(self, datos):\n",
    "        self.datos = datos\n",
    "        self.indexes = []\n",
    "\n",
    "    def __iter__(self):\n",
    "        self.current_iter = 0\n",
    "        return self\n",
    "\n",
    "    def __next__(self):\n",
    "        if self.current_iter < len(self.datos):\n",
    "            valor = self.datos[self.current_iter]\n",
    "            self.current_iter += 1\n",
    "            return valor\n",
    "        else:\n",
    "            raise StopIteration\n",
    "\n",
    "    def create_keyed_index(self, position):\n",
    "        index = {}\n",
    "        for tup in self.datos:\n",
    "            index[tup[position]] = tup\n",
    "        self.indexes.append(index)\n",
    "        return len(self.indexes) - 1\n",
    "\n",
    "    def index_access(self, id_index, element):\n",
    "        return self.indexes[id_index][element]"
   ]
  },
  {
   "cell_type": "code",
   "execution_count": 50,
   "metadata": {},
   "outputs": [
    {
     "name": "stdout",
     "output_type": "stream",
     "text": [
      "(1, 'Persona 1', 'TI')\n",
      "(5, 'Persona 5', 'Gerencia')\n",
      "(2, 'Persona 2', 'Gerencia')\n",
      "(3, 'Persona 3', 'TI')\n",
      "(10, 'Persona 10', 'RRHH')\n",
      "(4, 'Persona 4', 'Finanzas')\n",
      "(6, 'Persona 6', 'Finanzas')\n",
      "(15, 'Persona 15', 'TI')\n",
      "(7, 'Persona 7', 'Gerencia')\n",
      "(22, 'Persona 22', 'Gerencia')\n",
      "(31, 'Persona 31', 'TI')\n",
      "(11, 'Persona 11', 'RRHH')\n",
      "(9, 'Persona 9', 'Finanzas')\n",
      "(33, 'Persona 33', 'TI')\n"
     ]
    }
   ],
   "source": [
    "## Ejemplo de como iterar una Tabla\n",
    "\n",
    "Tpersonas = Tabla(Personas)\n",
    "iterador = iter(Tpersonas)\n",
    "for x in iterador:\n",
    "    print(x)"
   ]
  },
  {
   "cell_type": "code",
   "execution_count": 51,
   "metadata": {},
   "outputs": [
    {
     "data": {
      "text/plain": [
       "(3, 'Persona 3', 'TI')"
      ]
     },
     "execution_count": 51,
     "metadata": {},
     "output_type": "execute_result"
    }
   ],
   "source": [
    "## Crear un índice en el atributo id de Persona (posicion 0), y luego usarlo para encontrar la tupla con id 3\n",
    "\n",
    "Tpersonas.create_keyed_index(0)\n",
    "Tpersonas.index_access(0, 3)"
   ]
  },
  {
   "cell_type": "markdown",
   "metadata": {},
   "source": [
    "# Ejercicios"
   ]
  },
  {
   "cell_type": "markdown",
   "metadata": {},
   "source": [
    "### EJERCICIO 1. \n",
    "\n",
    "- (a) Crea una instancia de la clase \"Tabla\" para Personas, Proyectos y Persona Proyecto. \n",
    "- (b) Crea los índices necesarios para contestar la siguiente consulta en un tiempo acotado por la cantidad de personas en la base de datos, y detalla la estrategia para contestar esta consulta con los índices. \n",
    "> SELECT Persona.nombre, Proyecto.nombre \n",
    ">\n",
    "> FROM Persona, Proyecto, Persona_Proyecto\n",
    ">\n",
    "> WHERE Persona.id = Persona_Proyecto.id_persona AND Proyecto.id = Persona_Proyecto.id_proyecto\n",
    "\n",
    "- (c) Ejecuta un script que conteste esta consulta, a partir de las instancias de clase Tabla que creaste, usando solamente el iterador y la funcion index_access provistas para esa tabla. Tu script debe usar adecuadamente los índices y tu estrategia sugerida en el punto (b). "
   ]
  },
  {
   "attachments": {},
   "cell_type": "markdown",
   "metadata": {},
   "source": [
    "### Parte (a)"
   ]
  },
  {
   "cell_type": "code",
   "execution_count": 52,
   "metadata": {},
   "outputs": [],
   "source": [
    "### Parte (a)\n",
    "\n",
    "TPersonas = Tabla(Personas)\n",
    "TProyectos = Tabla(Proyectos)\n",
    "TPersona_Proyecto = Tabla(Persona_Proyecto)"
   ]
  },
  {
   "attachments": {},
   "cell_type": "markdown",
   "metadata": {},
   "source": [
    "### Parte (b) - estrategia\n",
    "Se decidió indexar los id's de los proyectos y personas, ya que estos son los que se usan para relacionar las tablas. Además, se indexó el id de las personas y proyectos de la tabla intermedia Persona_Proyecto, ya que es el que se usa para relacionar ambas tablas.\n",
    "\n",
    "Tras estudiar el desarrollo que realicé en la parte *c*, decidí que no es necesario indexar los elementos de la tabla intermedia `Persona_Proyecto`, esto ya que se iterará sobre todos sus elementos y no se obtiene ningún beneficio al indexarlos."
   ]
  },
  {
   "cell_type": "code",
   "execution_count": 53,
   "metadata": {},
   "outputs": [
    {
     "data": {
      "text/plain": [
       "0"
      ]
     },
     "execution_count": 53,
     "metadata": {},
     "output_type": "execute_result"
    }
   ],
   "source": [
    "### Parte (b) - código\n",
    "\n",
    "TPersonas.create_keyed_index(0)\n",
    "TProyectos.create_keyed_index(0)\n",
    "# TPersona_Proyecto.create_keyed_index(0)\n",
    "# TPersona_Proyecto.create_keyed_index(1)"
   ]
  },
  {
   "attachments": {},
   "cell_type": "markdown",
   "metadata": {},
   "source": [
    "### Parte (c)"
   ]
  },
  {
   "cell_type": "code",
   "execution_count": 55,
   "metadata": {},
   "outputs": [
    {
     "name": "stdout",
     "output_type": "stream",
     "text": [
      "Persona 1 - Proyecto 1\n",
      "Persona 2 - Proyecto 3\n",
      "Persona 10 - Proyecto 1\n",
      "Persona 5 - Proyecto 2\n",
      "Persona 6 - Proyecto 2\n",
      "Persona 33 - Proyecto 2\n",
      "Persona 15 - Proyecto 3\n"
     ]
    }
   ],
   "source": [
    "### Parte (c)\n",
    "\n",
    "iterador = iter(TPersona_Proyecto)\n",
    "for x in iterador:\n",
    "    nombre_persona = TPersonas.index_access(0, x[0])[1]\n",
    "    nombre_proyecto = TProyectos.index_access(0, x[1])[1]\n",
    "    # area_persona = TPersonas.index_access(0, x[0])[2]\n",
    "    # print(f'{nombre_persona} - {nombre_proyecto} - {area_persona}')\n",
    "    print(f'{nombre_persona} - {nombre_proyecto}')\n",
    "    \n"
   ]
  },
  {
   "cell_type": "markdown",
   "metadata": {},
   "source": [
    "### EJERCICIO 2. \n",
    "Ahora quieres contestar de forma eficiente (es decir, en un tiempo acotado por la cantidad de personas en el área TI) la consulta \n",
    "\n",
    "> SELECT Persona.nombre, Proyecto.nombre \n",
    ">\n",
    "> FROM Persona, Proyecto, Persona_Proyecto\n",
    ">\n",
    "> WHERE Persona.id = Persona_Proyecto.id_persona AND Proyecto.id = Persona_Proyecto.id_proyecto\n",
    ">\n",
    "> AND Persona.area = 'TI' \n",
    "\n",
    "- (a) Explica por qué con la estructura de índices de la clase Tabla no te alcanza\n",
    "- (b) Escribe una función llamada \"create_non_keyed_index\" que reciba una posición *p*, y genere un diccionario donde la llave sean los elementos de esa posición, y el valor sea la lista de tuplas cuyo valor en la posicion *p* corresponda a la llave. \n",
    "- (c) Ejecuta un script que conteste esta consulta, a partir de las instancias de clase Tabla que creaste, usando solamente el iterador y la funcion index_access provistas para esa tabla. Tu script debe usar adecuadamente los índices y tu estrategia sugerida en los puntos anteriores. \n"
   ]
  },
  {
   "attachments": {},
   "cell_type": "markdown",
   "metadata": {},
   "source": [
    "### Parte (a)\n",
    "\n",
    "<!-- No me alcanza, ya que área es *unclustered* (aun no se indexa, pero esa es la mejoor opción), la única forma de encontrar los elementos de un área en específico es iterar sobre todos los elementos de la tabla, lo que hace que se tenga que iterar sobre todos los elementos que cumplan con la condición de `Persona.id = Persona_Proyecto.id_persona AND Proyecto.id = Persona_Proyecto.id_proyecto`, sin optimización alguna. -->\n",
    "\n",
    "En el caso de querer hacer una consulta como la de arriba, como no tenemos ningún filtro para `area`, tendríamos que hacer el *nested join* con todos los elementos de la tabla `Persona_Proyecto`, lo que hace que se tenga que iterar sobre todos los elementos que cumplan con la condición de `Persona.id = Persona_Proyecto.id_persona AND Proyecto.id = Persona_Proyecto.id_proyecto`, sin optimización alguna. En cambio, si primero filtramos por aquellas persoans de área TI, y luego hacemos el *nested join*, se reduce la cantidad de elementos que se deben iterar, lo que hace que el tiempo de ejecución sea menor.\n",
    "\n",
    "Para ejemplificar mejor, supongamos que tenemos muchas áreas y 1000 personas. Si tenemos a las personas indexadas por el área a la que se dedican, reduciriamos la cantidad de personas sobre las cuales buscar si tiene o no proyecto asociados; mientras que si hacemos primero la búsqueda de quién tiene proyecto asociado, y de entre ellos buscamos quienes son TI, primero  habría que iterar sobre las 1000 personas buscando proyectos y después de entre quienes hayan resultado con proyecto, buscar a los TI en todo el subconjunto de personas. O incluso, si primero buscamos entre todas las personas, quiénes pertenecen a TI sin índices y luego hacemos el nested join, también estaríamos realizando un procesamiento mayor al necesario."
   ]
  },
  {
   "cell_type": "code",
   "execution_count": 157,
   "metadata": {},
   "outputs": [],
   "source": [
    "### Parte (b): reescribe todo el código asociado a la clase Tabla, para que sea más fácil ejecutar.\n",
    "\n",
    "\n",
    "class Tabla:\n",
    "    def __init__(self, datos):\n",
    "        self.datos = datos\n",
    "        self.indexes = []\n",
    "\n",
    "    def __iter__(self):\n",
    "        self.current_iter = 0\n",
    "        return self\n",
    "\n",
    "    def __next__(self):\n",
    "        if self.current_iter < len(self.datos):\n",
    "            valor = self.datos[self.current_iter]\n",
    "            self.current_iter += 1\n",
    "            return valor\n",
    "        else:\n",
    "            raise StopIteration\n",
    "\n",
    "    def create_keyed_index(self, position):\n",
    "        index = {}\n",
    "        for tup in self.datos:\n",
    "            index[tup[position]] = tup\n",
    "        self.indexes.append(index)\n",
    "        return len(self.indexes) - 1\n",
    "\n",
    "    #####\n",
    "    def create_non_keyed_index(self, position):\n",
    "        index = {}\n",
    "        for tup in self.datos:\n",
    "            if tup[position] not in index:\n",
    "                index[tup[position]] = []\n",
    "            index[tup[position]].append(tup)\n",
    "        \n",
    "        self.indexes.append(index)\n",
    "        \n",
    "        return len(self.indexes) - 1\n",
    "    \n",
    "    #####\n",
    "\n",
    "    def index_access(self, i, element):\n",
    "        return self.indexes[i][element]"
   ]
  },
  {
   "cell_type": "code",
   "execution_count": 162,
   "metadata": {},
   "outputs": [
    {
     "name": "stdout",
     "output_type": "stream",
     "text": [
      "Done\n"
     ]
    }
   ],
   "source": [
    "### Parte (c)\n",
    "TPersonas = Tabla(Personas)\n",
    "TProyectos = Tabla(Proyectos)\n",
    "TPersona_Proyecto = Tabla(Persona_Proyecto)\n",
    "\n",
    "# Indice para indexar por por area en Persona\n",
    "TPersonas.create_non_keyed_index(2)\n",
    "\n",
    "# Indice para indexar por id en Proyecto\n",
    "TProyectos.create_keyed_index(0)\n",
    "\n",
    "# Indice para indexar por id de persona en Persona_Proyecto\n",
    "TPersona_Proyecto.create_keyed_index(0)\n",
    "\n",
    "print('Done')"
   ]
  },
  {
   "cell_type": "code",
   "execution_count": 163,
   "metadata": {},
   "outputs": [
    {
     "name": "stdout",
     "output_type": "stream",
     "text": [
      "Persona 1 - Proyecto 1\n",
      "Persona 15 - Proyecto 3\n",
      "Persona 33 - Proyecto 2\n"
     ]
    }
   ],
   "source": [
    "for x in TPersonas.index_access(0, 'TI'):\n",
    "    try:\n",
    "        nombre = x[1]\n",
    "        proyecto = TProyectos.index_access(0, TPersona_Proyecto.index_access(0, x[0])[1])[1]\n",
    "        print(f'{nombre} - {proyecto}')\n",
    "    except:\n",
    "        # print(f\"Persona {x} no tiene proyecto asignado\")\n",
    "        pass"
   ]
  },
  {
   "cell_type": "markdown",
   "metadata": {},
   "source": [
    "### EJERCICIO 3. \n",
    "Ahora quieres contestar de forma eficiente la consulta \n",
    "\n",
    "> SELECT Persona.nombre, Proyecto.nombre \n",
    ">\n",
    "> FROM Persona, Proyecto, Persona_Proyecto\n",
    ">\n",
    "> WHERE Persona.id = Persona_Proyecto.id_persona AND Proyecto.id = Persona_Proyecto.id_proyecto\n",
    ">\n",
    "> AND Proyecto.timestamp > 5 \n",
    "\n",
    "- (a) Explica qué índices adicionales necesitarías, y describe cual sería tu estrategia para contestarla eficientemente. No es necesario usar más código. \n"
   ]
  },
  {
   "attachments": {},
   "cell_type": "markdown",
   "metadata": {},
   "source": [
    "### Parte a\n",
    "En este caso, dado que se quiere filtrar con una desigualdad, convendría indexar la columna `timestamp` de la tabla `Proyecto` con *B+ tree index*, ya que así podremos buscar por un rango de valores, y no por un valor en específico. "
   ]
  },
  {
   "cell_type": "code",
   "execution_count": null,
   "metadata": {},
   "outputs": [],
   "source": []
  }
 ],
 "metadata": {
  "kernelspec": {
   "display_name": "Python 3 (ipykernel)",
   "language": "python",
   "name": "python3"
  },
  "language_info": {
   "codemirror_mode": {
    "name": "ipython",
    "version": 3
   },
   "file_extension": ".py",
   "mimetype": "text/x-python",
   "name": "python",
   "nbconvert_exporter": "python",
   "pygments_lexer": "ipython3",
   "version": "3.8.10"
  }
 },
 "nbformat": 4,
 "nbformat_minor": 2
}
