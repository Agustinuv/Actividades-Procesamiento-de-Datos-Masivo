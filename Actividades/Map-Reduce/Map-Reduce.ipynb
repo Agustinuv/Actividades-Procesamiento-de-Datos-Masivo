{
  "cells": [
    {
      "cell_type": "markdown",
      "id": "4c75c9dd",
      "metadata": {
        "id": "4c75c9dd"
      },
      "source": [
        "# Actividad Evaluada 3\n",
        "\n",
        "En esta actividad vamos a evaluar que sepas escribir algoritmos bajo el paradigma de computación \"Map-Reduce\". Primero tendrás que escribir código en PySpark y después explicar ciertos puntos de cómo funciona tu código en un entorno distribuido.\n",
        "\n",
        "## Parte 1 (4 puntos) - Escribiendo procedimientos en PySpark\n",
        "\n",
        "En esta actividad vamos a trabajar con los datos de la actividad de BigQuery. Estos datos son los que representan el caso ficticio de una tienda online que vende frutas. Las tablas disponibilizadas son `Usuarios`, `Frutas` y `Compras`, y las puedes encontrar en el GitHub junto a este archivo. Recordemos que las compras disponibles en los datos son solo para el mes de febrero.\n",
        "\n",
        "Para esta parte de la actividad vas a tener que escribir código en `pyspark` en celdas de código. Vas a tener permitido solamente usar las funciones más básicas de Spark, asociadas a [la API](https://spark.apache.org/docs/latest/api/python/reference/api/pyspark.RDD.html) de los objetos `RDD`. Por lo mismo, **no puedes cargar los datos en objetos de Python y hacer análisis locales**, ya que tu código debería funcionar para un conjunto de datos más grande que está en un sistema de archivos distribuido.\n",
        "\n",
        "### Consultas\n",
        "\n",
        "Tienes que escribir procedimientos en PySpark que respondan las siguientes consultas:\n",
        "\n",
        "1. **(0.5 ptos)** Entrega todas las frutas con un precio unitario mayor o igual a 15.\n",
        "2. **(1 pto)** Entrega cada id de compra, junto con el nombre de la persona que la realizó, junto con la fruta que compró. Puedes pensar en retornar una fila por cada fruta en una compra.\n",
        "3. **(1 pto)** Entrega el el id de cada compra, junto al monto de cada compra.\n",
        "4. **(1.5 ptos)** Para cada día, entrega el id y el monto de la compra más cara."
      ]
    },
    {
      "cell_type": "markdown",
      "id": "d29280b3",
      "metadata": {
        "id": "d29280b3"
      },
      "source": [
        "## Parte 2 (2 puntos) - Explicando cómo se procesa cada consulta\n",
        "\n",
        "Ahora, pensando en un entorno distribuido donde hay muchos datos, explica cómo se resuelve cada uno de las consultas. En particular, queremos que te enfoques en cómo Spark saca ventaja de contar con varios \"workers\" en un entorno distribuido."
      ]
    },
    {
      "cell_type": "markdown",
      "id": "390f0eca",
      "metadata": {
        "id": "390f0eca"
      },
      "source": [
        "## Detalles administrativos\n",
        "\n",
        "- El trabajo es individual. Puedes consultar y discutir con tus compañeras y compañeros, pero a la hora de escribir el código, no puedes compartirlo con nadie. Puedes usar recursos como internet y modelos fundacionales de procesamiento de texto, pero nuevamente, no puedes compartir tu código.\n",
        "\n",
        "- La entrega es el viernes 26 de mayo a las 20:00 horas. Vas a tener que entregar el notebook en el buzón habilitado. **Para corregir la tarea vamos a usar Google Colab, así que te recomendamos que pruebes que tu tarea corre en ese entorno**.\n",
        "\n",
        "- Si tienes dudas, aprovéchanos, vamos a estar en la sala para ayudar. Recuerda que la idea en estas actividades es aprender y evaluar al mismo tiempo, ¡está bien si no todo sale a la primera!."
      ]
    },
    {
      "cell_type": "markdown",
      "source": [
        "### Instalar librerias"
      ],
      "metadata": {
        "id": "IyVqWrBaib7m"
      },
      "id": "IyVqWrBaib7m"
    },
    {
      "cell_type": "code",
      "source": [
        "!pip install pyspark"
      ],
      "metadata": {
        "colab": {
          "base_uri": "https://localhost:8080/"
        },
        "id": "fIIvkSJbe_8U",
        "outputId": "5aa15cab-9341-4711-939f-4302482663a7"
      },
      "id": "fIIvkSJbe_8U",
      "execution_count": 1,
      "outputs": [
        {
          "output_type": "stream",
          "name": "stdout",
          "text": [
            "Looking in indexes: https://pypi.org/simple, https://us-python.pkg.dev/colab-wheels/public/simple/\n",
            "Collecting pyspark\n",
            "  Downloading pyspark-3.4.0.tar.gz (310.8 MB)\n",
            "\u001b[2K     \u001b[90m━━━━━━━━━━━━━━━━━━━━━━━━━━━━━━━━━━━━━━━\u001b[0m \u001b[32m310.8/310.8 MB\u001b[0m \u001b[31m2.4 MB/s\u001b[0m eta \u001b[36m0:00:00\u001b[0m\n",
            "\u001b[?25h  Preparing metadata (setup.py) ... \u001b[?25l\u001b[?25hdone\n",
            "Requirement already satisfied: py4j==0.10.9.7 in /usr/local/lib/python3.10/dist-packages (from pyspark) (0.10.9.7)\n",
            "Building wheels for collected packages: pyspark\n",
            "  Building wheel for pyspark (setup.py) ... \u001b[?25l\u001b[?25hdone\n",
            "  Created wheel for pyspark: filename=pyspark-3.4.0-py2.py3-none-any.whl size=311317130 sha256=fa4e19d2b7373a96eb12c8bdc4b6fec3d46803e7bc1aa659bd67caceeffbe049\n",
            "  Stored in directory: /root/.cache/pip/wheels/7b/1b/4b/3363a1d04368e7ff0d408e57ff57966fcdf00583774e761327\n",
            "Successfully built pyspark\n",
            "Installing collected packages: pyspark\n",
            "Successfully installed pyspark-3.4.0\n"
          ]
        }
      ]
    },
    {
      "cell_type": "code",
      "source": [
        "from pyspark.sql import SparkSession\n",
        "\n",
        "spark = SparkSession.builder \\\n",
        "    .getOrCreate()\n",
        "    \n",
        "sc = spark.sparkContext\n",
        "sc"
      ],
      "metadata": {
        "colab": {
          "base_uri": "https://localhost:8080/",
          "height": 196
        },
        "id": "Ck52HzTPegOY",
        "outputId": "a2ccb530-a8fa-407e-dba7-02ceb07c2702"
      },
      "id": "Ck52HzTPegOY",
      "execution_count": 2,
      "outputs": [
        {
          "output_type": "execute_result",
          "data": {
            "text/plain": [
              "<SparkContext master=local[*] appName=pyspark-shell>"
            ],
            "text/html": [
              "\n",
              "        <div>\n",
              "            <p><b>SparkContext</b></p>\n",
              "\n",
              "            <p><a href=\"http://cb99b7e08f86:4040\">Spark UI</a></p>\n",
              "\n",
              "            <dl>\n",
              "              <dt>Version</dt>\n",
              "                <dd><code>v3.4.0</code></dd>\n",
              "              <dt>Master</dt>\n",
              "                <dd><code>local[*]</code></dd>\n",
              "              <dt>AppName</dt>\n",
              "                <dd><code>pyspark-shell</code></dd>\n",
              "            </dl>\n",
              "        </div>\n",
              "        "
            ]
          },
          "metadata": {},
          "execution_count": 2
        }
      ]
    },
    {
      "cell_type": "markdown",
      "source": [
        "### Obtener datos"
      ],
      "metadata": {
        "id": "pKr_UjMpiZnY"
      },
      "id": "pKr_UjMpiZnY"
    },
    {
      "cell_type": "code",
      "source": [
        "!gdown 13nInfre0ljprp3baOqu9-ulw3E2aNWhz\n",
        "!gdown 1zBFZnZ-CXbhDs1X0l6GhaMmw_aDZWFkc \n",
        "!gdown 107lHtJfXsCLfo83HFttAPDg7IEd6yhHF"
      ],
      "metadata": {
        "colab": {
          "base_uri": "https://localhost:8080/"
        },
        "id": "NP_d3FdjeZNo",
        "outputId": "6e8b2197-957b-4cc5-b3a9-c4e7b3ebf39a"
      },
      "id": "NP_d3FdjeZNo",
      "execution_count": 3,
      "outputs": [
        {
          "output_type": "stream",
          "name": "stdout",
          "text": [
            "Downloading...\n",
            "From: https://drive.google.com/uc?id=13nInfre0ljprp3baOqu9-ulw3E2aNWhz\n",
            "To: /content/compras.csv\n",
            "100% 7.94k/7.94k [00:00<00:00, 27.9MB/s]\n",
            "Downloading...\n",
            "From: https://drive.google.com/uc?id=1zBFZnZ-CXbhDs1X0l6GhaMmw_aDZWFkc\n",
            "To: /content/frutas.csv\n",
            "100% 215/215 [00:00<00:00, 650kB/s]\n",
            "Downloading...\n",
            "From: https://drive.google.com/uc?id=107lHtJfXsCLfo83HFttAPDg7IEd6yhHF\n",
            "To: /content/usuarios.csv\n",
            "100% 582/582 [00:00<00:00, 2.15MB/s]\n"
          ]
        }
      ]
    },
    {
      "cell_type": "code",
      "source": [
        "frutas_1   = sc.textFile(\"frutas.csv\")\n",
        "header_1   = frutas_1.first()\n",
        "frutas   = frutas_1.filter(lambda line: line != header_1).flatMap(lambda row: [ row.split(\",\") ])\n",
        "\n",
        "compras_1  = sc.textFile(\"compras.csv\")\n",
        "header_2   = compras_1.first()\n",
        "compras  = compras_1.filter(lambda line: line != header_2).flatMap(lambda row: [ row.split(\",\") ])\n",
        "\n",
        "usuarios_1 = sc.textFile(\"usuarios.csv\")\n",
        "header_3   = usuarios_1.first()\n",
        "usuarios = usuarios_1.filter(lambda line: line != header_3).flatMap(lambda row: [ row.split(\",\") ])\n"
      ],
      "metadata": {
        "id": "ZSERKqWpe-8U"
      },
      "id": "ZSERKqWpe-8U",
      "execution_count": 4,
      "outputs": []
    },
    {
      "cell_type": "code",
      "source": [
        "print(f\"Header de las frutas: {header_1.split(',')}\")\n",
        "print(f\"Header de las compras: {header_2.split(',')}\")\n",
        "print(f\"Header de las usuarios: {header_3.split(',')}\")"
      ],
      "metadata": {
        "colab": {
          "base_uri": "https://localhost:8080/"
        },
        "id": "mrezBf9xj0lI",
        "outputId": "907f2817-5736-4cec-f5dd-9e6d6327495c"
      },
      "id": "mrezBf9xj0lI",
      "execution_count": 5,
      "outputs": [
        {
          "output_type": "stream",
          "name": "stdout",
          "text": [
            "Header de las frutas: ['id', 'nombre', 'precio_unitario']\n",
            "Header de las compras: ['id_compra', 'id_usuario', 'id_producto', 'fecha_compra', 'cantidad']\n",
            "Header de las usuarios: ['id', 'nombre', 'direccion', 'tarjeta_credito']\n"
          ]
        }
      ]
    },
    {
      "cell_type": "markdown",
      "source": [
        "## Parte 1"
      ],
      "metadata": {
        "id": "xOMCaP3TUzlE"
      },
      "id": "xOMCaP3TUzlE"
    },
    {
      "cell_type": "markdown",
      "source": [
        "### **(0.5 ptos)** Entrega todas las frutas con un precio unitario mayor o igual a 15.\n"
      ],
      "metadata": {
        "id": "6FfDPJSiiv36"
      },
      "id": "6FfDPJSiiv36"
    },
    {
      "cell_type": "code",
      "source": [
        "frutas.filter(lambda row: int(row[2]) >= 15).collect()"
      ],
      "metadata": {
        "colab": {
          "base_uri": "https://localhost:8080/"
        },
        "id": "0dQECUAi5SYk",
        "outputId": "cb71c151-f59a-481c-b421-cf17b61faba0"
      },
      "id": "0dQECUAi5SYk",
      "execution_count": 13,
      "outputs": [
        {
          "output_type": "execute_result",
          "data": {
            "text/plain": [
              "[['3', 'Uva', '20'],\n",
              " ['4', 'Sandía', '50'],\n",
              " ['5', 'Melón', '40'],\n",
              " ['7', 'Ciruela', '15'],\n",
              " ['8', 'Durazno', '17'],\n",
              " ['10', 'Guanábana', '30'],\n",
              " ['11', 'Mango', '25'],\n",
              " ['12', 'Fresa', '18'],\n",
              " ['13', 'Kiwi', '22'],\n",
              " ['14', 'Papaya', '35'],\n",
              " ['15', 'Maracuyá', '28']]"
            ]
          },
          "metadata": {},
          "execution_count": 13
        }
      ]
    },
    {
      "cell_type": "markdown",
      "source": [
        "### **(1 pto)** Entrega cada id de compra, junto con el nombre de la persona que la realizó, junto con la fruta que compró. Puedes pensar en retornar una fila por cada fruta en una compra.\n",
        "\n"
      ],
      "metadata": {
        "id": "MG5YDMaxssku"
      },
      "id": "MG5YDMaxssku"
    },
    {
      "cell_type": "markdown",
      "source": [
        "Cabe mencionar, que los primeros `map`'s usados, no son del todo necesarios, los use para ordenar mejor las ideas"
      ],
      "metadata": {
        "id": "pYXsChaeAqOx"
      },
      "id": "pYXsChaeAqOx"
    },
    {
      "cell_type": "code",
      "source": [
        "fruta_id_nombre = frutas.map(lambda fruta: (fruta[0], fruta[1]))\n",
        "    # --> (id, nombre)\n",
        "\n",
        "usuario_id_nombre = usuarios.map(lambda usuario: (usuario[0], usuario[1]))\n",
        "    # --> (id, nombre)\n",
        "\n",
        "compras_format = compras.map(lambda compra: (compra[1], (compra[2], compra[0]))) \n",
        "    # --> id_usu, id_prod, id_compra"
      ],
      "metadata": {
        "id": "gZ2ff-uZjQk7"
      },
      "id": "gZ2ff-uZjQk7",
      "execution_count": 15,
      "outputs": []
    },
    {
      "cell_type": "code",
      "source": [
        "compras_format\\\n",
        "    .join(usuario_id_nombre)\\\n",
        "    .map( lambda row: (row[1][0][0], (row[1][0][1], row[1][1])))\\\n",
        "    .join(fruta_id_nombre)\\\n",
        "    .map( lambda row: (int(row[1][0][0]), row[1][0][1], row[1][1]))\\\n",
        "    .sortBy( lambda row: row[0])\\\n",
        "    .collect()"
      ],
      "metadata": {
        "colab": {
          "base_uri": "https://localhost:8080/"
        },
        "id": "mI2p0HTVaFzr",
        "outputId": "0adacd55-b269-4e8a-950f-80cf5db4fd13"
      },
      "id": "mI2p0HTVaFzr",
      "execution_count": 16,
      "outputs": [
        {
          "output_type": "execute_result",
          "data": {
            "text/plain": [
              "[(1, 'Carlos Rodriguez', 'Maracuyá'),\n",
              " (2, 'Isabel Torres', 'Papaya'),\n",
              " (3, 'Manuel Herrera', 'Maracuyá'),\n",
              " (3, 'Manuel Herrera', 'Fresa'),\n",
              " (3, 'Manuel Herrera', 'Guanábana'),\n",
              " (4, 'Diego Sánchez', 'Kiwi'),\n",
              " (4, 'Diego Sánchez', 'Naranja'),\n",
              " (4, 'Diego Sánchez', 'Ciruela'),\n",
              " (5, 'Patricia Gómez', 'Durazno'),\n",
              " (5, 'Patricia Gómez', 'Guanábana'),\n",
              " (6, 'Francisco Martínez', 'Sandía'),\n",
              " (6, 'Francisco Martínez', 'Uva'),\n",
              " (6, 'Francisco Martínez', 'Fresa'),\n",
              " (6, 'Francisco Martínez', 'Plátano'),\n",
              " (7, 'Juan Perez', 'Durazno'),\n",
              " (8, 'Manuel Herrera', 'Sandía'),\n",
              " (8, 'Manuel Herrera', 'Pera'),\n",
              " (8, 'Manuel Herrera', 'Durazno'),\n",
              " (9, 'Isabel Torres', 'Kiwi'),\n",
              " (9, 'Isabel Torres', 'Manzana'),\n",
              " (9, 'Isabel Torres', 'Melón'),\n",
              " (9, 'Isabel Torres', 'Mango'),\n",
              " (10, 'María Fernández', 'Manzana'),\n",
              " (10, 'María Fernández', 'Ciruela'),\n",
              " (11, 'Francisco Martínez', 'Maracuyá'),\n",
              " (11, 'Francisco Martínez', 'Uva'),\n",
              " (11, 'Francisco Martínez', 'Pera'),\n",
              " (11, 'Francisco Martínez', 'Guanábana'),\n",
              " (12, 'Juan Perez', 'Uva'),\n",
              " (12, 'Juan Perez', 'Durazno'),\n",
              " (12, 'Juan Perez', 'Guanábana'),\n",
              " (12, 'Juan Perez', 'Melón'),\n",
              " (13, 'Laura García', 'Manzana'),\n",
              " (13, 'Laura García', 'Guanábana'),\n",
              " (13, 'Laura García', 'Plátano'),\n",
              " (14, 'María Fernández', 'Naranja'),\n",
              " (14, 'María Fernández', 'Fresa'),\n",
              " (14, 'María Fernández', 'Melón'),\n",
              " (15, 'Diego Sánchez', 'Sandía'),\n",
              " (15, 'Diego Sánchez', 'Fresa'),\n",
              " (15, 'Diego Sánchez', 'Mango'),\n",
              " (16, 'Juan Perez', 'Uva'),\n",
              " (16, 'Juan Perez', 'Fresa'),\n",
              " (16, 'Juan Perez', 'Guanábana'),\n",
              " (17, 'Laura García', 'Maracuyá'),\n",
              " (17, 'Laura García', 'Kiwi'),\n",
              " (17, 'Laura García', 'Fresa'),\n",
              " (18, 'Isabel Torres', 'Sandía'),\n",
              " (18, 'Isabel Torres', 'Papaya'),\n",
              " (18, 'Isabel Torres', 'Fresa'),\n",
              " (19, 'Isabel Torres', 'Maracuyá'),\n",
              " (19, 'Isabel Torres', 'Manzana'),\n",
              " (19, 'Isabel Torres', 'Naranja'),\n",
              " (19, 'Isabel Torres', 'Durazno'),\n",
              " (20, 'Diego Sánchez', 'Durazno'),\n",
              " (21, 'Manuel Herrera', 'Maracuyá'),\n",
              " (21, 'Manuel Herrera', 'Melón'),\n",
              " (21, 'Manuel Herrera', 'Mango'),\n",
              " (22, 'Ana Morales', 'Pera'),\n",
              " (23, 'María Fernández', 'Maracuyá'),\n",
              " (23, 'María Fernández', 'Manzana'),\n",
              " (23, 'María Fernández', 'Naranja'),\n",
              " (23, 'María Fernández', 'Ciruela'),\n",
              " (24, 'Carlos Rodriguez', 'Pera'),\n",
              " (24, 'Carlos Rodriguez', 'Plátano'),\n",
              " (25, 'Ana Morales', 'Papaya'),\n",
              " (25, 'Ana Morales', 'Manzana'),\n",
              " (26, 'Diego Sánchez', 'Maracuyá'),\n",
              " (26, 'Diego Sánchez', 'Guanábana'),\n",
              " (26, 'Diego Sánchez', 'Mango'),\n",
              " (27, 'Isabel Torres', 'Maracuyá'),\n",
              " (27, 'Isabel Torres', 'Guanábana'),\n",
              " (27, 'Isabel Torres', 'Mango'),\n",
              " (28, 'Juan Perez', 'Sandía'),\n",
              " (28, 'Juan Perez', 'Kiwi'),\n",
              " (28, 'Juan Perez', 'Durazno'),\n",
              " (28, 'Juan Perez', 'Melón'),\n",
              " (29, 'Laura García', 'Guanábana'),\n",
              " (30, 'María Fernández', 'Sandía'),\n",
              " (30, 'María Fernández', 'Maracuyá'),\n",
              " (30, 'María Fernández', 'Pera'),\n",
              " (30, 'María Fernández', 'Plátano'),\n",
              " (31, 'Francisco Martínez', 'Sandía'),\n",
              " (31, 'Francisco Martínez', 'Manzana'),\n",
              " (31, 'Francisco Martínez', 'Guanábana'),\n",
              " (32, 'Isabel Torres', 'Kiwi'),\n",
              " (32, 'Isabel Torres', 'Fresa'),\n",
              " (32, 'Isabel Torres', 'Melón'),\n",
              " (33, 'Juan Perez', 'Melón'),\n",
              " (33, 'Juan Perez', 'Plátano'),\n",
              " (34, 'Laura García', 'Naranja'),\n",
              " (35, 'Ana Morales', 'Sandía'),\n",
              " (35, 'Ana Morales', 'Pera'),\n",
              " (35, 'Ana Morales', 'Fresa'),\n",
              " (35, 'Ana Morales', 'Ciruela'),\n",
              " (36, 'Carlos Rodriguez', 'Papaya'),\n",
              " (36, 'Carlos Rodriguez', 'Naranja'),\n",
              " (36, 'Carlos Rodriguez', 'Guanábana'),\n",
              " (36, 'Carlos Rodriguez', 'Ciruela'),\n",
              " (37, 'Patricia Gómez', 'Naranja'),\n",
              " (37, 'Patricia Gómez', 'Fresa'),\n",
              " (37, 'Patricia Gómez', 'Melón'),\n",
              " (37, 'Patricia Gómez', 'Plátano'),\n",
              " (38, 'Ana Morales', 'Fresa'),\n",
              " (38, 'Ana Morales', 'Plátano'),\n",
              " (39, 'Francisco Martínez', 'Sandía'),\n",
              " (39, 'Francisco Martínez', 'Maracuyá'),\n",
              " (39, 'Francisco Martínez', 'Kiwi'),\n",
              " (39, 'Francisco Martínez', 'Melón'),\n",
              " (40, 'Juan Perez', 'Ciruela'),\n",
              " (40, 'Juan Perez', 'Mango'),\n",
              " (41, 'Patricia Gómez', 'Fresa'),\n",
              " (41, 'Patricia Gómez', 'Guanábana'),\n",
              " (41, 'Patricia Gómez', 'Melón'),\n",
              " (41, 'Patricia Gómez', 'Plátano'),\n",
              " (42, 'Carlos Rodriguez', 'Sandía'),\n",
              " (42, 'Carlos Rodriguez', 'Papaya'),\n",
              " (42, 'Carlos Rodriguez', 'Manzana'),\n",
              " (42, 'Carlos Rodriguez', 'Fresa'),\n",
              " (43, 'Manuel Herrera', 'Maracuyá'),\n",
              " (44, 'Diego Sánchez', 'Sandía'),\n",
              " (44, 'Diego Sánchez', 'Maracuyá'),\n",
              " (44, 'Diego Sánchez', 'Uva'),\n",
              " (44, 'Diego Sánchez', 'Naranja'),\n",
              " (45, 'María Fernández', 'Papaya'),\n",
              " (45, 'María Fernández', 'Durazno'),\n",
              " (46, 'Francisco Martínez', 'Papaya'),\n",
              " (46, 'Francisco Martínez', 'Durazno'),\n",
              " (47, 'Isabel Torres', 'Kiwi'),\n",
              " (47, 'Isabel Torres', 'Manzana'),\n",
              " (47, 'Isabel Torres', 'Mango'),\n",
              " (48, 'María Fernández', 'Manzana'),\n",
              " (49, 'Laura García', 'Sandía'),\n",
              " (49, 'Laura García', 'Maracuyá'),\n",
              " (50, 'Patricia Gómez', 'Sandía'),\n",
              " (50, 'Patricia Gómez', 'Ciruela'),\n",
              " (50, 'Patricia Gómez', 'Mango'),\n",
              " (51, 'Carlos Rodriguez', 'Durazno'),\n",
              " (51, 'Carlos Rodriguez', 'Plátano'),\n",
              " (52, 'Ana Morales', 'Manzana'),\n",
              " (52, 'Ana Morales', 'Naranja'),\n",
              " (52, 'Ana Morales', 'Mango'),\n",
              " (53, 'Francisco Martínez', 'Naranja'),\n",
              " (54, 'Laura García', 'Maracuyá'),\n",
              " (54, 'Laura García', 'Mango'),\n",
              " (55, 'Francisco Martínez', 'Maracuyá'),\n",
              " (55, 'Francisco Martínez', 'Manzana'),\n",
              " (56, 'Patricia Gómez', 'Sandía'),\n",
              " (56, 'Patricia Gómez', 'Maracuyá'),\n",
              " (57, 'Juan Perez', 'Sandía'),\n",
              " (58, 'Manuel Herrera', 'Fresa'),\n",
              " (58, 'Manuel Herrera', 'Plátano'),\n",
              " (59, 'Isabel Torres', 'Uva'),\n",
              " (59, 'Isabel Torres', 'Naranja'),\n",
              " (59, 'Isabel Torres', 'Plátano'),\n",
              " (60, 'Diego Sánchez', 'Uva'),\n",
              " (60, 'Diego Sánchez', 'Papaya'),\n",
              " (60, 'Diego Sánchez', 'Manzana'),\n",
              " (60, 'Diego Sánchez', 'Melón'),\n",
              " (61, 'Patricia Gómez', 'Uva'),\n",
              " (61, 'Patricia Gómez', 'Papaya'),\n",
              " (61, 'Patricia Gómez', 'Kiwi'),\n",
              " (61, 'Patricia Gómez', 'Melón'),\n",
              " (62, 'Laura García', 'Maracuyá'),\n",
              " (62, 'Laura García', 'Kiwi'),\n",
              " (62, 'Laura García', 'Ciruela'),\n",
              " (62, 'Laura García', 'Melón'),\n",
              " (63, 'Diego Sánchez', 'Melón'),\n",
              " (64, 'Francisco Martínez', 'Pera'),\n",
              " (64, 'Francisco Martínez', 'Naranja'),\n",
              " (64, 'Francisco Martínez', 'Ciruela'),\n",
              " (65, 'Isabel Torres', 'Mango'),\n",
              " (66, 'Ana Morales', 'Uva'),\n",
              " (66, 'Ana Morales', 'Papaya'),\n",
              " (66, 'Ana Morales', 'Manzana'),\n",
              " (67, 'María Fernández', 'Naranja'),\n",
              " (67, 'María Fernández', 'Melón'),\n",
              " (67, 'María Fernández', 'Plátano'),\n",
              " (68, 'Isabel Torres', 'Pera'),\n",
              " (69, 'Diego Sánchez', 'Uva'),\n",
              " (69, 'Diego Sánchez', 'Pera'),\n",
              " (69, 'Diego Sánchez', 'Fresa'),\n",
              " (70, 'Laura García', 'Kiwi'),\n",
              " (70, 'Laura García', 'Guanábana'),\n",
              " (71, 'Francisco Martínez', 'Maracuyá'),\n",
              " (71, 'Francisco Martínez', 'Papaya'),\n",
              " (72, 'Patricia Gómez', 'Fresa'),\n",
              " (72, 'Patricia Gómez', 'Durazno'),\n",
              " (73, 'Carlos Rodriguez', 'Papaya'),\n",
              " (74, 'Isabel Torres', 'Guanábana'),\n",
              " (75, 'María Fernández', 'Naranja'),\n",
              " (76, 'Manuel Herrera', 'Sandía'),\n",
              " (77, 'María Fernández', 'Mango'),\n",
              " (78, 'Ana Morales', 'Manzana'),\n",
              " (78, 'Ana Morales', 'Naranja'),\n",
              " (79, 'Francisco Martínez', 'Papaya'),\n",
              " (79, 'Francisco Martínez', 'Plátano'),\n",
              " (80, 'Laura García', 'Papaya'),\n",
              " (80, 'Laura García', 'Guanábana'),\n",
              " (80, 'Laura García', 'Ciruela'),\n",
              " (81, 'Carlos Rodriguez', 'Manzana'),\n",
              " (81, 'Carlos Rodriguez', 'Fresa'),\n",
              " (82, 'Diego Sánchez', 'Uva'),\n",
              " (82, 'Diego Sánchez', 'Naranja'),\n",
              " (83, 'Isabel Torres', 'Sandía'),\n",
              " (83, 'Isabel Torres', 'Uva'),\n",
              " (83, 'Isabel Torres', 'Manzana'),\n",
              " (83, 'Isabel Torres', 'Plátano'),\n",
              " (84, 'Diego Sánchez', 'Kiwi'),\n",
              " (85, 'Manuel Herrera', 'Plátano'),\n",
              " (86, 'Juan Perez', 'Papaya'),\n",
              " (86, 'Juan Perez', 'Durazno'),\n",
              " (87, 'Isabel Torres', 'Maracuyá'),\n",
              " (87, 'Isabel Torres', 'Naranja'),\n",
              " (87, 'Isabel Torres', 'Plátano'),\n",
              " (88, 'Diego Sánchez', 'Manzana'),\n",
              " (89, 'Ana Morales', 'Uva'),\n",
              " (89, 'Ana Morales', 'Ciruela'),\n",
              " (89, 'Ana Morales', 'Plátano'),\n",
              " (90, 'María Fernández', 'Kiwi'),\n",
              " (90, 'María Fernández', 'Naranja'),\n",
              " (90, 'María Fernández', 'Ciruela'),\n",
              " (90, 'María Fernández', 'Plátano'),\n",
              " (91, 'Manuel Herrera', 'Maracuyá'),\n",
              " (91, 'Manuel Herrera', 'Papaya'),\n",
              " (91, 'Manuel Herrera', 'Fresa'),\n",
              " (91, 'Manuel Herrera', 'Mango'),\n",
              " (92, 'Carlos Rodriguez', 'Maracuyá'),\n",
              " (93, 'Laura García', 'Maracuyá'),\n",
              " (93, 'Laura García', 'Kiwi'),\n",
              " (94, 'María Fernández', 'Ciruela'),\n",
              " (95, 'Francisco Martínez', 'Manzana'),\n",
              " (95, 'Francisco Martínez', 'Naranja'),\n",
              " (95, 'Francisco Martínez', 'Mango'),\n",
              " (96, 'Laura García', 'Maracuyá'),\n",
              " (96, 'Laura García', 'Ciruela'),\n",
              " (96, 'Laura García', 'Mango'),\n",
              " (97, 'Juan Perez', 'Manzana'),\n",
              " (97, 'Juan Perez', 'Fresa'),\n",
              " (97, 'Juan Perez', 'Guanábana'),\n",
              " (97, 'Juan Perez', 'Plátano'),\n",
              " (98, 'María Fernández', 'Pera'),\n",
              " (98, 'María Fernández', 'Kiwi'),\n",
              " (98, 'María Fernández', 'Ciruela'),\n",
              " (99, 'Carlos Rodriguez', 'Naranja'),\n",
              " (99, 'Carlos Rodriguez', 'Durazno'),\n",
              " (99, 'Carlos Rodriguez', 'Plátano'),\n",
              " (100, 'Diego Sánchez', 'Mango'),\n",
              " (101, 'María Fernández', 'Durazno'),\n",
              " (102, 'Ana Morales', 'Pera'),\n",
              " (102, 'Ana Morales', 'Kiwi'),\n",
              " (102, 'Ana Morales', 'Fresa'),\n",
              " (103, 'Manuel Herrera', 'Sandía'),\n",
              " (103, 'Manuel Herrera', 'Pera'),\n",
              " (103, 'Manuel Herrera', 'Kiwi'),\n",
              " (103, 'Manuel Herrera', 'Durazno'),\n",
              " (104, 'Carlos Rodriguez', 'Fresa'),\n",
              " (104, 'Carlos Rodriguez', 'Plátano'),\n",
              " (105, 'Diego Sánchez', 'Manzana'),\n",
              " (105, 'Diego Sánchez', 'Guanábana'),\n",
              " (106, 'Isabel Torres', 'Papaya'),\n",
              " (107, 'Carlos Rodriguez', 'Manzana'),\n",
              " (107, 'Carlos Rodriguez', 'Durazno'),\n",
              " (107, 'Carlos Rodriguez', 'Guanábana'),\n",
              " (108, 'Ana Morales', 'Sandía'),\n",
              " (108, 'Ana Morales', 'Naranja'),\n",
              " (108, 'Ana Morales', 'Ciruela'),\n",
              " (109, 'Francisco Martínez', 'Uva'),\n",
              " (109, 'Francisco Martínez', 'Guanábana'),\n",
              " (110, 'Diego Sánchez', 'Manzana'),\n",
              " (110, 'Diego Sánchez', 'Plátano'),\n",
              " (111, 'Patricia Gómez', 'Kiwi'),\n",
              " (111, 'Patricia Gómez', 'Manzana'),\n",
              " (111, 'Patricia Gómez', 'Fresa'),\n",
              " (111, 'Patricia Gómez', 'Melón'),\n",
              " (112, 'María Fernández', 'Sandía'),\n",
              " (112, 'María Fernández', 'Papaya'),\n",
              " (112, 'María Fernández', 'Pera'),\n",
              " (112, 'María Fernández', 'Manzana'),\n",
              " (113, 'Patricia Gómez', 'Sandía'),\n",
              " (113, 'Patricia Gómez', 'Kiwi'),\n",
              " (113, 'Patricia Gómez', 'Fresa'),\n",
              " (113, 'Patricia Gómez', 'Melón'),\n",
              " (114, 'Isabel Torres', 'Kiwi'),\n",
              " (114, 'Isabel Torres', 'Fresa'),\n",
              " (115, 'Ana Morales', 'Sandía'),\n",
              " (115, 'Ana Morales', 'Manzana'),\n",
              " (115, 'Ana Morales', 'Plátano'),\n",
              " (115, 'Ana Morales', 'Mango'),\n",
              " (116, 'Carlos Rodriguez', 'Pera'),\n",
              " (116, 'Carlos Rodriguez', 'Guanábana'),\n",
              " (117, 'Laura García', 'Uva'),\n",
              " (117, 'Laura García', 'Manzana'),\n",
              " (118, 'Diego Sánchez', 'Fresa'),\n",
              " (119, 'Manuel Herrera', 'Pera'),\n",
              " (119, 'Manuel Herrera', 'Ciruela'),\n",
              " (119, 'Manuel Herrera', 'Melón'),\n",
              " (120, 'Juan Perez', 'Uva'),\n",
              " (120, 'Juan Perez', 'Naranja'),\n",
              " (120, 'Juan Perez', 'Guanábana'),\n",
              " (120, 'Juan Perez', 'Plátano'),\n",
              " (121, 'Ana Morales', 'Maracuyá'),\n",
              " (121, 'Ana Morales', 'Durazno'),\n",
              " (121, 'Ana Morales', 'Ciruela'),\n",
              " (122, 'Francisco Martínez', 'Sandía'),\n",
              " (122, 'Francisco Martínez', 'Papaya'),\n",
              " (122, 'Francisco Martínez', 'Manzana'),\n",
              " (122, 'Francisco Martínez', 'Naranja'),\n",
              " (123, 'Patricia Gómez', 'Sandía'),\n",
              " (124, 'Manuel Herrera', 'Sandía'),\n",
              " (124, 'Manuel Herrera', 'Papaya'),\n",
              " (125, 'María Fernández', 'Manzana'),\n",
              " (126, 'Juan Perez', 'Pera'),\n",
              " (126, 'Juan Perez', 'Mango'),\n",
              " (127, 'Laura García', 'Plátano'),\n",
              " (128, 'Ana Morales', 'Papaya'),\n",
              " (128, 'Ana Morales', 'Pera'),\n",
              " (128, 'Ana Morales', 'Ciruela'),\n",
              " (128, 'Ana Morales', 'Mango'),\n",
              " (129, 'Isabel Torres', 'Uva'),\n",
              " (129, 'Isabel Torres', 'Manzana'),\n",
              " (129, 'Isabel Torres', 'Fresa'),\n",
              " (129, 'Isabel Torres', 'Ciruela'),\n",
              " (130, 'Carlos Rodriguez', 'Sandía'),\n",
              " (130, 'Carlos Rodriguez', 'Maracuyá'),\n",
              " (130, 'Carlos Rodriguez', 'Mango'),\n",
              " (131, 'Diego Sánchez', 'Uva'),\n",
              " (131, 'Diego Sánchez', 'Manzana'),\n",
              " (131, 'Diego Sánchez', 'Naranja'),\n",
              " (131, 'Diego Sánchez', 'Plátano'),\n",
              " (132, 'Manuel Herrera', 'Uva'),\n",
              " (132, 'Manuel Herrera', 'Kiwi'),\n",
              " (132, 'Manuel Herrera', 'Naranja'),\n",
              " (132, 'Manuel Herrera', 'Durazno'),\n",
              " (133, 'Patricia Gómez', 'Sandía'),\n",
              " (133, 'Patricia Gómez', 'Papaya'),\n",
              " (133, 'Patricia Gómez', 'Fresa'),\n",
              " (134, 'Juan Perez', 'Plátano'),\n",
              " (135, 'Manuel Herrera', 'Pera'),\n",
              " (136, 'Isabel Torres', 'Kiwi'),\n",
              " (136, 'Isabel Torres', 'Fresa'),\n",
              " (136, 'Isabel Torres', 'Melón'),\n",
              " (137, 'Diego Sánchez', 'Maracuyá'),\n",
              " (137, 'Diego Sánchez', 'Papaya'),\n",
              " (137, 'Diego Sánchez', 'Ciruela'),\n",
              " (137, 'Diego Sánchez', 'Mango'),\n",
              " (138, 'Francisco Martínez', 'Maracuyá'),\n",
              " (138, 'Francisco Martínez', 'Ciruela'),\n",
              " (138, 'Francisco Martínez', 'Plátano'),\n",
              " (139, 'Ana Morales', 'Melón'),\n",
              " (140, 'Diego Sánchez', 'Naranja'),\n",
              " (140, 'Diego Sánchez', 'Mango'),\n",
              " (141, 'Ana Morales', 'Manzana'),\n",
              " (142, 'María Fernández', 'Sandía'),\n",
              " (142, 'María Fernández', 'Papaya'),\n",
              " (142, 'María Fernández', 'Kiwi'),\n",
              " (142, 'María Fernández', 'Durazno'),\n",
              " (143, 'Juan Perez', 'Manzana'),\n",
              " (143, 'Juan Perez', 'Guanábana'),\n",
              " (143, 'Juan Perez', 'Melón'),\n",
              " (143, 'Juan Perez', 'Mango')]"
            ]
          },
          "metadata": {},
          "execution_count": 16
        }
      ]
    },
    {
      "cell_type": "code",
      "source": [
        "# Idea descartada pero que no quise borrar por si acaso\n",
        "# usuario_compra = usuario_id_nombre.join(compras_format).map(\n",
        "#     lambda row: (row[1][1][0], (row[1][1][1], row[1][0]))\n",
        "#     ) \n",
        "#     # --> id_prod, id_compr, nombre\n",
        "\n",
        "# sorted(usuario_compra.join(fruta_id_nombre).map(\n",
        "#     lambda row: (int(row[1][0][0]), row[1][0][1], row[1][1])\n",
        "#     ).collect())\n",
        "#     # --> id_compra, comprador, fruta"
      ],
      "metadata": {
        "id": "q4VLkqvfti-x"
      },
      "id": "q4VLkqvfti-x",
      "execution_count": 11,
      "outputs": []
    },
    {
      "cell_type": "markdown",
      "source": [
        "### **(1 pto)** Entrega el el id de cada compra, junto al monto de cada compra."
      ],
      "metadata": {
        "id": "bCOPHtzFAg68"
      },
      "id": "bCOPHtzFAg68"
    },
    {
      "cell_type": "code",
      "source": [
        "compras_format = compras.map(lambda row: (row[2], (row[0], row[4])))\n",
        "    # --> id_producto, (id_compra, cantidad)\n",
        "\n",
        "frutas_format = frutas.map(lambda row: (row[0], row[2]))\n",
        "    # --> id_producto, precio_unidad\n",
        "\n",
        "compras_format.join(frutas_format)\\\n",
        "    .map(lambda row: (int(row[1][0][0]), int(row[1][0][1]) * int(row[1][1])))\\\n",
        "    .reduceByKey(lambda r1, r2: r1 + r2)\\\n",
        "    .sortBy(lambda row: row[0])\\\n",
        "    .collect()"
      ],
      "metadata": {
        "colab": {
          "base_uri": "https://localhost:8080/"
        },
        "id": "JungLGtof9z_",
        "outputId": "f27a90f3-4e82-4b6b-d183-981aa3d13aa1"
      },
      "id": "JungLGtof9z_",
      "execution_count": 17,
      "outputs": [
        {
          "output_type": "execute_result",
          "data": {
            "text/plain": [
              "[(1, 28),\n",
              " (2, 210),\n",
              " (3, 704),\n",
              " (4, 360),\n",
              " (5, 188),\n",
              " (6, 295),\n",
              " (7, 119),\n",
              " (8, 299),\n",
              " (9, 619),\n",
              " (10, 40),\n",
              " (11, 564),\n",
              " (12, 856),\n",
              " (13, 215),\n",
              " (14, 266),\n",
              " (15, 530),\n",
              " (16, 206),\n",
              " (17, 248),\n",
              " (18, 316),\n",
              " (19, 261),\n",
              " (20, 102),\n",
              " (21, 852),\n",
              " (22, 120),\n",
              " (23, 411),\n",
              " (24, 92),\n",
              " (25, 55),\n",
              " (26, 427),\n",
              " (27, 213),\n",
              " (28, 1028),\n",
              " (29, 60),\n",
              " (30, 542),\n",
              " (31, 320),\n",
              " (32, 284),\n",
              " (33, 150),\n",
              " (34, 16),\n",
              " (35, 287),\n",
              " (36, 535),\n",
              " (37, 460),\n",
              " (38, 190),\n",
              " (39, 784),\n",
              " (40, 140),\n",
              " (41, 454),\n",
              " (42, 704),\n",
              " (43, 224),\n",
              " (44, 482),\n",
              " (45, 294),\n",
              " (46, 398),\n",
              " (47, 287),\n",
              " (48, 50),\n",
              " (49, 452),\n",
              " (50, 350),\n",
              " (51, 122),\n",
              " (52, 307),\n",
              " (53, 16),\n",
              " (54, 402),\n",
              " (55, 342),\n",
              " (56, 352),\n",
              " (57, 300),\n",
              " (58, 143),\n",
              " (59, 223),\n",
              " (60, 460),\n",
              " (61, 812),\n",
              " (62, 694),\n",
              " (63, 80),\n",
              " (64, 226),\n",
              " (65, 100),\n",
              " (66, 480),\n",
              " (67, 184),\n",
              " (68, 120),\n",
              " (69, 368),\n",
              " (70, 194),\n",
              " (71, 371),\n",
              " (72, 53),\n",
              " (73, 280),\n",
              " (74, 150),\n",
              " (75, 56),\n",
              " (76, 200),\n",
              " (77, 75),\n",
              " (78, 76),\n",
              " (79, 320),\n",
              " (80, 360),\n",
              " (81, 180),\n",
              " (82, 148),\n",
              " (83, 530),\n",
              " (84, 22),\n",
              " (85, 50),\n",
              " (86, 223),\n",
              " (87, 201),\n",
              " (88, 70),\n",
              " (89, 170),\n",
              " (90, 240),\n",
              " (91, 483),\n",
              " (92, 252),\n",
              " (93, 304),\n",
              " (94, 150),\n",
              " (95, 151),\n",
              " (96, 400),\n",
              " (97, 367),\n",
              " (98, 187),\n",
              " (99, 140),\n",
              " (100, 75),\n",
              " (101, 68),\n",
              " (102, 224),\n",
              " (103, 552),\n",
              " (104, 133),\n",
              " (105, 260),\n",
              " (106, 350),\n",
              " (107, 229),\n",
              " (108, 483),\n",
              " (109, 450),\n",
              " (110, 60),\n",
              " (111, 426),\n",
              " (112, 499),\n",
              " (113, 590),\n",
              " (114, 280),\n",
              " (115, 395),\n",
              " (116, 126),\n",
              " (117, 70),\n",
              " (118, 180),\n",
              " (119, 465),\n",
              " (120, 279),\n",
              " (121, 257),\n",
              " (122, 625),\n",
              " (123, 200),\n",
              " (124, 305),\n",
              " (125, 60),\n",
              " (126, 184),\n",
              " (127, 25),\n",
              " (128, 470),\n",
              " (129, 276),\n",
              " (130, 587),\n",
              " (131, 402),\n",
              " (132, 313),\n",
              " (133, 516),\n",
              " (134, 15),\n",
              " (135, 72),\n",
              " (136, 448),\n",
              " (137, 780),\n",
              " (138, 274),\n",
              " (139, 360),\n",
              " (140, 115),\n",
              " (141, 90),\n",
              " (142, 489),\n",
              " (143, 360)]"
            ]
          },
          "metadata": {},
          "execution_count": 17
        }
      ]
    },
    {
      "cell_type": "markdown",
      "source": [
        "### **(1.5 ptos)** Para cada día, entrega el id y el monto de la compra más cara."
      ],
      "metadata": {
        "id": "CKYfOsWcHbmq"
      },
      "id": "CKYfOsWcHbmq"
    },
    {
      "cell_type": "code",
      "source": [
        "compras_format = compras.map(lambda row: (row[2], (row[0], row[3], row[4])))\n",
        "    # --> id_producto, (id_compra, fecha_compra, cantidad)\n",
        "\n",
        "frutas_format = frutas.map(lambda row: (row[0], row[2]))\n",
        "    # --> id_producto, precio_unidad\n",
        "\n",
        "compra_fruta_precio_fecha = compras_format.join(frutas_format).map(lambda row: (*row[1][0], row[1][1]))\n",
        "    # --> id_compra, fecha_compra, cantidad, precio_unitario\n",
        "\n",
        "compra_fruta_precio_fecha\\\n",
        "    .map(lambda row: ((int(row[0]), row[1]), int(row[2]) * int(row[3])))\\\n",
        "    .reduceByKey( lambda r1, r2: r1 + r2)\\\n",
        "    .map( lambda row: (row[0][1], (row[0][0], row[1])))\\\n",
        "    .groupByKey()\\\n",
        "    .mapValues(list)\\\n",
        "    .map(lambda day_row: (day_row[0], *max(day_row[1], key=lambda pair: pair[1])))\\\n",
        "    .sortBy(lambda day: day[0])\\\n",
        "    .collect()\n",
        "    # --> (fecha, id_compra, monto)"
      ],
      "metadata": {
        "colab": {
          "base_uri": "https://localhost:8080/"
        },
        "id": "yA0JGZ7slxeY",
        "outputId": "2b308e56-33c2-4a36-eb99-c44c45e2cfee"
      },
      "id": "yA0JGZ7slxeY",
      "execution_count": 18,
      "outputs": [
        {
          "output_type": "execute_result",
          "data": {
            "text/plain": [
              "[('2023-02-01', 3, 704),\n",
              " ('2023-02-02', 9, 619),\n",
              " ('2023-02-03', 12, 856),\n",
              " ('2023-02-04', 15, 530),\n",
              " ('2023-02-05', 21, 852),\n",
              " ('2023-02-06', 28, 1028),\n",
              " ('2023-02-07', 36, 535),\n",
              " ('2023-02-08', 39, 784),\n",
              " ('2023-02-09', 42, 704),\n",
              " ('2023-02-10', 49, 452),\n",
              " ('2023-02-11', 54, 402),\n",
              " ('2023-02-12', 60, 460),\n",
              " ('2023-02-13', 61, 812),\n",
              " ('2023-02-14', 66, 480),\n",
              " ('2023-02-15', 71, 371),\n",
              " ('2023-02-16', 74, 150),\n",
              " ('2023-02-17', 80, 360),\n",
              " ('2023-02-18', 83, 530),\n",
              " ('2023-02-19', 91, 483),\n",
              " ('2023-02-20', 95, 151),\n",
              " ('2023-02-21', 96, 400),\n",
              " ('2023-02-22', 103, 552),\n",
              " ('2023-02-23', 112, 499),\n",
              " ('2023-02-24', 113, 590),\n",
              " ('2023-02-25', 122, 625),\n",
              " ('2023-02-26', 130, 587),\n",
              " ('2023-02-27', 137, 780),\n",
              " ('2023-02-28', 142, 489)]"
            ]
          },
          "metadata": {},
          "execution_count": 18
        }
      ]
    },
    {
      "cell_type": "markdown",
      "source": [
        "## Parte 2\n",
        "\n",
        "Ahora, pensando en un entorno distribuido donde hay muchos datos, explica cómo se resuelve cada uno de las consultas. En particular, queremos que te enfoques en cómo Spark saca ventaja de contar con varios \"workers\" en un entorno distribuido."
      ],
      "metadata": {
        "id": "o0kMqYzVU3vl"
      },
      "id": "o0kMqYzVU3vl"
    },
    {
      "cell_type": "markdown",
      "source": [
        "Como fuente de información para algunas de las siguientes respuestas se uso ChatGPT. Algunas definiciones quedaron tan buenas que las coloqué entre comillas. Se complementó con la [documentación de spark](https://spark.apache.org/docs/latest/api/python/reference/api/pyspark.RDD.html).\n",
        "\n",
        "`Spark` saca la ventaja principalmente en los pasos en que particiona la información. Esto permite varias cosas, por un lado, trabajar con menos datos hace los procesos mucho más rápidos en cada computador de manera independiente. Por otro lado, el trabajar con menos datos permite que todas las operaciones puedan ser realizadass en memoria (lo que también guarda relación con la anterior). \n",
        "\n",
        "Supongamos que quiero obtener lo vendido por día en un año en un supermercado con mucho público, utilizando `spark` podríamos trabajar en particiones por día en distintos computadores, lo que haría que en vez de trabajar ver la suma de las ventas de 365 días en un solo computador, se vea la venta de cada día en un solo computador. Podremos tener pérdida de tiempo entre la comunicación de computadores, pero al trabajar con tantos computadores en paralelo es como si se tuviese un procesador y memoria combinada muchísimo más potente."
      ],
      "metadata": {
        "id": "nqQRvF-jj9_h"
      },
      "id": "nqQRvF-jj9_h"
    },
    {
      "cell_type": "markdown",
      "source": [
        "### Consulta 1"
      ],
      "metadata": {
        "id": "F5cc4ra7azp9"
      },
      "id": "F5cc4ra7azp9"
    },
    {
      "cell_type": "markdown",
      "source": [
        "`frutas.filter(lambda row: int(row[2]) >= 15).collect()`\n",
        "\n"
      ],
      "metadata": {
        "id": "di9ldigPU7pC"
      },
      "id": "di9ldigPU7pC"
    },
    {
      "cell_type": "markdown",
      "source": [
        "Esta consulta puede resolverse dividiendo el conjunto del RDD en varias máquinas, en cada una ejecutar la función para ver si el elemento cumple la condición (un filtro aplicando la funcióna a cada fila y quedandome con los que cumplen). Luego, se vuelven a unir los elementos que sí hayan cumplido con la condición."
      ],
      "metadata": {
        "id": "F6udUu84VBDY"
      },
      "id": "F6udUu84VBDY"
    },
    {
      "cell_type": "markdown",
      "source": [
        "### Consulta 2"
      ],
      "metadata": {
        "id": "ddOcgm0Sa7S8"
      },
      "id": "ddOcgm0Sa7S8"
    },
    {
      "cell_type": "markdown",
      "source": [
        "```\n",
        "fruta_id_nombre   = frutas.map(lambda fruta: (fruta[0], fruta[1]))\n",
        "\n",
        "usuario_id_nombre = usuarios.map(lambda usuario: (usuario[0], usuario[1]))\n",
        "\n",
        "compras_format    = compras.map(lambda compra: (compra[1], (compra[2], compra[0]))) \n",
        "\n",
        "compra_usuario    = compras_format.join(usuario_id_nombre).map(\n",
        "    lambda row: (row[1][0][0], (row[1][0][1], row[1][1])))\n",
        "\n",
        "sorted(compra_usuario.join(fruta_id_nombre).map(\n",
        "    lambda row: (int(row[1][0][0]), row[1][0][1], row[1][1])\n",
        "    ).collect())\n",
        "```"
      ],
      "metadata": {
        "id": "SqpQ0UhwZQTw"
      },
      "id": "SqpQ0UhwZQTw"
    },
    {
      "cell_type": "markdown",
      "source": [
        "Los 3 `map`'s iniciales sirven para trabajar con menos columnas de los datos y usar el fomato que permite unir por llaves de manera más fácil. \n",
        "\n",
        "Luego, para crear `compra_usuario`, se hace un `join` entre las compras y los usuarios que se les configuró el formato con anterioridad. El `join` trabaja sobre los `id` de las frutas. Luego se realiza un `map` para dejar la salida en un formato que sea fácil de trabajar después. \n",
        "Para esta consulta, `spark` divide la información de entrada en particiones más pequeñas según la clave con bajo la que se hace el join. Luego, en cada partición se hace un mapeo para unir los diferentes RDD involucrados según la clave. Luego, se vuelven a unir en un mismo RDD todos los datos procesados que fueron separados en las particiones."
      ],
      "metadata": {
        "id": "oKSf1yWjZU01"
      },
      "id": "oKSf1yWjZU01"
    },
    {
      "cell_type": "markdown",
      "source": [
        "### Consulta 3"
      ],
      "metadata": {
        "id": "2eaoXW2lfGuu"
      },
      "id": "2eaoXW2lfGuu"
    },
    {
      "cell_type": "markdown",
      "source": [
        "```\n",
        "compras_format = compras.map(lambda row: (row[2], (row[0], row[4])))\n",
        "\n",
        "frutas_format = frutas.map(lambda row: (row[0], row[2]))\n",
        "\n",
        "compras_format.join(frutas_format)\\\n",
        "    .map(lambda row: (int(row[1][0][0]), int(row[1][0][1]) * int(row[1][1])))\\\n",
        "    .reduceByKey(lambda r1, r2: r1 + r2)\\\n",
        "    .collect()\n",
        "```"
      ],
      "metadata": {
        "id": "w5bha_h_fJx6"
      },
      "id": "w5bha_h_fJx6"
    },
    {
      "cell_type": "markdown",
      "source": [
        "Al igual que antes, se hacen dos mapeos para dejar los datos en un formato con mayor facilidad de ser trabajados. Luego, al igual que antes, se hace un `join` sobre el identificador de las frutas entre las compras y las frutas (se explicó antes cómo funciona en profundidad el `join`). Luego, se hace un `map` sobre los datos unidos, en los que se multiplica la cantidad de frutas en la compra por su precio, obteniendo una nueva tupla `(id_compra, pagado_por_fruta_x_en_esa_compra)`. Finalmente, se aplica la operación `reduceByKey`, la que funciona\n",
        "> agrupando los valores de un RDD por clave y luego aplicando una función de reducción a esos valores. Primero, los datos se dividen en particiones y se asigna una clave a cada elemento. Luego, los datos se reorganizan para asegurar que los elementos con la misma clave estén en la misma máquina. Finalmente, se aplica la función de reducción a los valores correspondientes a cada clave para obtener un resultado reducido por clave (ChatGPT)"
      ],
      "metadata": {
        "id": "EXIDYRlsfjpA"
      },
      "id": "EXIDYRlsfjpA"
    },
    {
      "cell_type": "markdown",
      "source": [
        "### Consulta 4"
      ],
      "metadata": {
        "id": "ZLJQU-Znm3PC"
      },
      "id": "ZLJQU-Znm3PC"
    },
    {
      "cell_type": "markdown",
      "source": [
        "```\n",
        "compras_format = compras.map(lambda row: (row[2], (row[0], row[3], row[4])))\n",
        "\n",
        "frutas_format = frutas.map(lambda row: (row[0], row[2]))\n",
        "\n",
        "compra_fruta_precio_fecha = compras_format.join(frutas_format).map(lambda row: (*row[1][0], row[1][1]))\n",
        "\n",
        "compra_fruta_precio_fecha\\\n",
        "    .map(lambda row: ((int(row[0]), row[1]), int(row[2]) * int(row[3])))\\\n",
        "    .reduceByKey( lambda r1, r2: r1 + r2)\\\n",
        "    .map( lambda row: (row[0][1], (row[0][0], row[1])))\\\n",
        "    .groupByKey()\\\n",
        "    .mapValues(list)\\\n",
        "    .map(lambda day_row: (day_row[0], *max(day_row[1], key=lambda pair: pair[1])))\\\n",
        "    .sortBy(lambda day: day[0])\\\n",
        "    .collect()\n",
        "```"
      ],
      "metadata": {
        "id": "yEZ1FPY1m5Cx"
      },
      "id": "yEZ1FPY1m5Cx"
    },
    {
      "cell_type": "markdown",
      "source": [
        "Luego de las primeras dos filas en que mediante un `map` dejamos los datos en un formato más liviano y fácil y de manipular, se raliza un `join` entre ambos RDD para así obtener tuplas con la información que nos interesa. Luego, al igual que antes, unimos por clave los datos, obteniéndose el monto total de cada compra. A este RDD obtenido, lo dejamos en el formato con los datos necesarios. A continuación, `groupByKey` particiona los datos mediante la clave, dejando a los elementos con llaves iguales en mismos clusters, los cuales agrupan los valores de las claves en un RDD, teniendo un RDD por clave, este es cambiado a formato de lista con `mapValues(list)`, que es un mapeo a cada linea aplicando la función `list`. Finalmente, se aplica un `map` que de esta lista por llave obtiene el que tiene la tupla con el mayor monto para ese día (y el id de la compra). Finalmente, mediante `sortBy`\n",
        ">los datos se dividen en particiones, se reorganizan agrupando los elementos con el mismo valor de clasificación, se realiza la ordenación dentro de cada partición y finalmente se fusionan los datos en un nuevo RDD ordenado (ChatGPT)"
      ],
      "metadata": {
        "id": "mDT4yV2V4Ady"
      },
      "id": "mDT4yV2V4Ady"
    },
    {
      "cell_type": "code",
      "source": [],
      "metadata": {
        "id": "cFl_k3SG7u6n"
      },
      "id": "cFl_k3SG7u6n",
      "execution_count": null,
      "outputs": []
    }
  ],
  "metadata": {
    "kernelspec": {
      "display_name": "Python 3 (ipykernel)",
      "language": "python",
      "name": "python3"
    },
    "language_info": {
      "codemirror_mode": {
        "name": "ipython",
        "version": 3
      },
      "file_extension": ".py",
      "mimetype": "text/x-python",
      "name": "python",
      "nbconvert_exporter": "python",
      "pygments_lexer": "ipython3",
      "version": "3.9.9"
    },
    "colab": {
      "provenance": [],
      "collapsed_sections": [
        "IyVqWrBaib7m",
        "pKr_UjMpiZnY",
        "6FfDPJSiiv36",
        "MG5YDMaxssku",
        "bCOPHtzFAg68",
        "CKYfOsWcHbmq",
        "F5cc4ra7azp9",
        "ddOcgm0Sa7S8",
        "2eaoXW2lfGuu",
        "ZLJQU-Znm3PC"
      ]
    }
  },
  "nbformat": 4,
  "nbformat_minor": 5
}